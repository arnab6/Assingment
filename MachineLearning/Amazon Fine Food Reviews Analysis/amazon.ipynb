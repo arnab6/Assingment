{
  "nbformat": 4,
  "nbformat_minor": 0,
  "metadata": {
    "colab": {
      "name": "Amazon.ipynb",
      "provenance": [],
      "collapsed_sections": [],
      "toc_visible": true,
      "mount_file_id": "1a3bsFhWItXNU01aUG9BnwB4aUwTL2Bg7",
      "authorship_tag": "ABX9TyOK0APdOBuZs/rNG0nkzmZa",
      "include_colab_link": true
    },
    "kernelspec": {
      "name": "python3",
      "display_name": "Python 3"
    },
    "language_info": {
      "name": "python"
    }
  },
  "cells": [
    {
      "cell_type": "markdown",
      "metadata": {
        "id": "view-in-github",
        "colab_type": "text"
      },
      "source": [
        "<a href=\"https://colab.research.google.com/github/Arnab6/Assingment/blob/master/MachineLearning/Amazon%20Fine%20Food%20Reviews%20Analysis/amazon.ipynb\" target=\"_parent\"><img src=\"https://colab.research.google.com/assets/colab-badge.svg\" alt=\"Open In Colab\"/></a>"
      ]
    },
    {
      "cell_type": "code",
      "metadata": {
        "id": "_-FtEL9EHihS"
      },
      "source": [
        ""
      ],
      "execution_count": null,
      "outputs": []
    },
    {
      "cell_type": "markdown",
      "metadata": {
        "id": "lhESgF5pxixe"
      },
      "source": [
        "# Amazon Fine Food Reviews *Analysis*\n"
      ]
    },
    {
      "cell_type": "markdown",
      "metadata": {
        "id": "nr2ch2FZHf66"
      },
      "source": [
        "# Data Loading\n",
        "\n",
        "--\n",
        "\n",
        "\n"
      ]
    },
    {
      "cell_type": "code",
      "metadata": {
        "id": "AUkMi-IsopOK"
      },
      "source": [
        "import sqlite3 \n",
        "import pandas as pd "
      ],
      "execution_count": 11,
      "outputs": []
    },
    {
      "cell_type": "code",
      "metadata": {
        "colab": {
          "base_uri": "https://localhost:8080/",
          "height": 346
        },
        "id": "wwptR6BU8yje",
        "outputId": "cb9b749a-681a-4ff9-95fb-301a5c9c84c2"
      },
      "source": [
        "\n",
        "#creating the connection with the database \n",
        "conn =  sqlite3.connect(\"/content/drive/MyDrive/Study/Applied AI/ML/Real world problem: Predict rating given product reviews on Amazon/DataSet/Amazon_Dataset/database.sqlite\")\n",
        "\n",
        "filtered_data = pd.read_sql_query(\"\"\" SELECT * FROM Reviews WHERE Score != 3  LIMIT 5000\"\"\",conn)\n",
        "\n",
        "def possitive_negetive_classifier(data):\n",
        "\n",
        "    if data > 3 :\n",
        "        return 1 \n",
        "    else :\n",
        "        return 0 \n",
        "\n",
        "print(\"Data with actual rating : \\n\")\n",
        "\n",
        "print(filtered_data.head(1))\n",
        "\n",
        "exisiting_score = filtered_data[\"Score\"]\n",
        "\n",
        "new_score_binary = exisiting_score.map(possitive_negetive_classifier)\n",
        "\n",
        "filtered_data [\"score\"] = new_score_binary\n",
        "\n",
        "print(\" \\n Data with only possitve or negetive rating : \\n\")\n",
        "filtered_data.head(3)\n"
      ],
      "execution_count": 14,
      "outputs": [
        {
          "output_type": "stream",
          "text": [
            "Data with actual rating : \n",
            "\n",
            "   Id  ...                                               Text\n",
            "0   1  ...  I have bought several of the Vitality canned d...\n",
            "\n",
            "[1 rows x 10 columns]\n",
            " \n",
            " Data with only possitve or negetive rating : \n",
            "\n"
          ],
          "name": "stdout"
        },
        {
          "output_type": "execute_result",
          "data": {
            "text/html": [
              "<div>\n",
              "<style scoped>\n",
              "    .dataframe tbody tr th:only-of-type {\n",
              "        vertical-align: middle;\n",
              "    }\n",
              "\n",
              "    .dataframe tbody tr th {\n",
              "        vertical-align: top;\n",
              "    }\n",
              "\n",
              "    .dataframe thead th {\n",
              "        text-align: right;\n",
              "    }\n",
              "</style>\n",
              "<table border=\"1\" class=\"dataframe\">\n",
              "  <thead>\n",
              "    <tr style=\"text-align: right;\">\n",
              "      <th></th>\n",
              "      <th>Id</th>\n",
              "      <th>ProductId</th>\n",
              "      <th>UserId</th>\n",
              "      <th>ProfileName</th>\n",
              "      <th>HelpfulnessNumerator</th>\n",
              "      <th>HelpfulnessDenominator</th>\n",
              "      <th>Score</th>\n",
              "      <th>Time</th>\n",
              "      <th>Summary</th>\n",
              "      <th>Text</th>\n",
              "      <th>score</th>\n",
              "    </tr>\n",
              "  </thead>\n",
              "  <tbody>\n",
              "    <tr>\n",
              "      <th>0</th>\n",
              "      <td>1</td>\n",
              "      <td>B001E4KFG0</td>\n",
              "      <td>A3SGXH7AUHU8GW</td>\n",
              "      <td>delmartian</td>\n",
              "      <td>1</td>\n",
              "      <td>1</td>\n",
              "      <td>5</td>\n",
              "      <td>1303862400</td>\n",
              "      <td>Good Quality Dog Food</td>\n",
              "      <td>I have bought several of the Vitality canned d...</td>\n",
              "      <td>1</td>\n",
              "    </tr>\n",
              "    <tr>\n",
              "      <th>1</th>\n",
              "      <td>2</td>\n",
              "      <td>B00813GRG4</td>\n",
              "      <td>A1D87F6ZCVE5NK</td>\n",
              "      <td>dll pa</td>\n",
              "      <td>0</td>\n",
              "      <td>0</td>\n",
              "      <td>1</td>\n",
              "      <td>1346976000</td>\n",
              "      <td>Not as Advertised</td>\n",
              "      <td>Product arrived labeled as Jumbo Salted Peanut...</td>\n",
              "      <td>0</td>\n",
              "    </tr>\n",
              "    <tr>\n",
              "      <th>2</th>\n",
              "      <td>3</td>\n",
              "      <td>B000LQOCH0</td>\n",
              "      <td>ABXLMWJIXXAIN</td>\n",
              "      <td>Natalia Corres \"Natalia Corres\"</td>\n",
              "      <td>1</td>\n",
              "      <td>1</td>\n",
              "      <td>4</td>\n",
              "      <td>1219017600</td>\n",
              "      <td>\"Delight\" says it all</td>\n",
              "      <td>This is a confection that has been around a fe...</td>\n",
              "      <td>1</td>\n",
              "    </tr>\n",
              "  </tbody>\n",
              "</table>\n",
              "</div>"
            ],
            "text/plain": [
              "   Id   ProductId  ...                                               Text score\n",
              "0   1  B001E4KFG0  ...  I have bought several of the Vitality canned d...     1\n",
              "1   2  B00813GRG4  ...  Product arrived labeled as Jumbo Salted Peanut...     0\n",
              "2   3  B000LQOCH0  ...  This is a confection that has been around a fe...     1\n",
              "\n",
              "[3 rows x 11 columns]"
            ]
          },
          "metadata": {
            "tags": []
          },
          "execution_count": 14
        }
      ]
    },
    {
      "cell_type": "markdown",
      "metadata": {
        "id": "kU1q7QjBDOqz"
      },
      "source": [
        "**Arnab**"
      ]
    }
  ]
}